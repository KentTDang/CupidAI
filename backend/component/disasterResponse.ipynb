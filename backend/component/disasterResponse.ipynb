{
 "cells": [
  {
   "cell_type": "code",
   "execution_count": 11,
   "metadata": {},
   "outputs": [],
   "source": [
    "from dotenv import load_dotenv\n",
    "\n",
    "_ = load_dotenv()"
   ]
  },
  {
   "cell_type": "code",
   "execution_count": 12,
   "metadata": {},
   "outputs": [],
   "source": [
    "from langgraph.graph import StateGraph, END\n",
    "from typing import TypedDict, Annotated, List\n",
    "import operator\n",
    "from langgraph.checkpoint.sqlite import SqliteSaver\n",
    "from langchain_core.messages import AnyMessage, SystemMessage, HumanMessage, AIMessage, ChatMessage\n",
    "\n",
    "memory = SqliteSaver.from_conn_string(\":memory:\")"
   ]
  },
  {
   "cell_type": "code",
   "execution_count": 13,
   "metadata": {},
   "outputs": [],
   "source": [
    "class AgentState(TypedDict):\n",
    "    task: str\n",
    "    plan: str\n",
    "    draft: str\n",
    "    critique: str\n",
    "    content: List[str]\n",
    "    revision_number: int\n",
    "    max_revisions: int"
   ]
  },
  {
   "cell_type": "code",
   "execution_count": 14,
   "metadata": {},
   "outputs": [],
   "source": [
    "from langchain_openai import ChatOpenAI\n",
    "model = ChatOpenAI(model=\"gpt-3.5-turbo\", temperature=0)"
   ]
  },
  {
   "cell_type": "code",
   "execution_count": 15,
   "metadata": {},
   "outputs": [],
   "source": [
    "PLAN_PROMPT = \"\"\"You are an expert disaster response planner tasked with creating a comprehensive \\\n",
    "    response plan for a given disaster scenario. Write such an outline for the user provided \\\n",
    "    disaster scenario. Give an outline of the plan along with any relevant notes or instructions \\\n",
    "    for the disaster response plan.\n",
    "\"\"\""
   ]
  },
  {
   "cell_type": "code",
   "execution_count": 16,
   "metadata": {},
   "outputs": [],
   "source": [
    "RESPONDER_PROMPT = \"\"\"You are a disaster response assistant tasked with executing a comprehensive disaster response plan. \\\n",
    "Utilize the detailed plan provided by the planning agent to implement the response effectively. Your responsibilities include \\\n",
    "coordinating resources, managing communication, and adapting to evolving situations. If there are updates or critiques from \\\n",
    "the planning agent or response teams, adjust your actions accordingly. Utilize all the information below as needed:\n",
    "\n",
    "------\n",
    "\n",
    "{content}\"\"\""
   ]
  },
  {
   "cell_type": "code",
   "execution_count": 17,
   "metadata": {},
   "outputs": [],
   "source": [
    "REFLECTION_PROMPT = \"\"\"You are a disaster response expert reviewing a disaster response plan. \n",
    "Generate critique and recommendations for the provided plan. \n",
    "Provide detailed recommendations, including requests for additional details, improvements in strategy, and suggestions for better resource management and communication.\n",
    "Ensure your feedback is constructive and actionable.\n",
    "\n",
    "------\n",
    "\n",
    "{content}\"\"\""
   ]
  },
  {
   "cell_type": "code",
   "execution_count": 18,
   "metadata": {},
   "outputs": [],
   "source": [
    "RESEARCH_PLAN_PROMPT = \"\"\"You are a researcher charged with providing information that can \n",
    "be used to enhance the following disaster response plan. Generate a list of search queries that will gather \n",
    "any relevant information. Only generate 3 queries max. \n",
    "\n",
    "------\n",
    "\n",
    "{content}\"\"\""
   ]
  },
  {
   "cell_type": "code",
   "execution_count": 19,
   "metadata": {},
   "outputs": [],
   "source": [
    "RESEARCH_CRITIQUE_PROMPT = \"\"\"You are a researcher charged with providing information that can \n",
    "be used to make any requested revisions to the disaster response plan (as outlined below). \n",
    "Generate a list of search queries that will gather any relevant information. Only generate 3 queries max. \n",
    "\n",
    "------\n",
    "\n",
    "{content}\"\"\""
   ]
  },
  {
   "cell_type": "code",
   "execution_count": 20,
   "metadata": {},
   "outputs": [],
   "source": [
    "from langchain_core.pydantic_v1 import BaseModel\n",
    "\n",
    "class Queries(BaseModel):\n",
    "    queries: List[str]"
   ]
  },
  {
   "cell_type": "code",
   "execution_count": 21,
   "metadata": {},
   "outputs": [],
   "source": [
    "from tavily import TavilyClient\n",
    "import os\n",
    "tavily = TavilyClient(api_key=os.environ[\"TAVILY_API_KEY\"])"
   ]
  },
  {
   "cell_type": "code",
   "execution_count": 22,
   "metadata": {},
   "outputs": [],
   "source": [
    "def plan_node(state: AgentState):\n",
    "    message = [ \n",
    "        SystemMessage(content=PLAN_PROMPT),\n",
    "        HumanMessage(content=state['task'])\n",
    "    ]\n",
    "    response = model.invoke(message)\n",
    "    return {'plan':response.content}"
   ]
  },
  {
   "cell_type": "code",
   "execution_count": 23,
   "metadata": {},
   "outputs": [],
   "source": [
    "def research_plan_node(state: AgentState):\n",
    "    queries = model.with_structured_output(Queries).invoke([\n",
    "        SystemMessage(content=RESEARCH_PLAN_PROMPT),\n",
    "        HumanMessage(content=state['task'])\n",
    "    ])\n",
    "    content = state['content'] or []\n",
    "    for q in queries.queries:\n",
    "        response = tavily.search(query=q, max_results=2)\n",
    "        for r in response['results']:\n",
    "            content.append(r['content'])\n",
    "    return {\"content\": content}"
   ]
  },
  {
   "cell_type": "code",
   "execution_count": 24,
   "metadata": {},
   "outputs": [],
   "source": [
    "def generation_node(state: AgentState):\n",
    "    content = \"\\n\\n\".join(state['content'] or [])\n",
    "    user_message = HumanMessage(\n",
    "        content=f\"{state['task']}\\n\\nHere is my plan:\\n\\n{state['plan']}\")\n",
    "    messages = [\n",
    "        SystemMessage(\n",
    "            content=REFLECTION_PROMPT.format(content=content)\n",
    "        ),\n",
    "        user_message\n",
    "        ]\n",
    "    response = model.invoke(messages)\n",
    "    return {\n",
    "        \"draft\": response.content, \n",
    "        \"revision_number\": state.get(\"revision_number\", 1) + 1\n",
    "    }\n"
   ]
  },
  {
   "cell_type": "code",
   "execution_count": 25,
   "metadata": {},
   "outputs": [],
   "source": [
    "def reflection_node(state: AgentState):\n",
    "    messages = [\n",
    "        SystemMessage(content=REFLECTION_PROMPT), \n",
    "        HumanMessage(content=state['draft'])\n",
    "    ]\n",
    "    response = model.invoke(messages)\n",
    "    return {\"critique\": response.content}"
   ]
  },
  {
   "cell_type": "code",
   "execution_count": 26,
   "metadata": {},
   "outputs": [],
   "source": [
    "def research_critique_node(state: AgentState):\n",
    "    queries = model.with_structured_output(Queries).invoke([\n",
    "        SystemMessage(content=RESEARCH_CRITIQUE_PROMPT),\n",
    "        HumanMessage(content=state['critique'])\n",
    "    ])\n",
    "    content = state['content'] or []\n",
    "    for q in queries.queries:\n",
    "        response = tavily.search(query=q, max_results=2)\n",
    "        for r in response['results']:\n",
    "            content.append(r['content'])\n",
    "    return {\"content\": content}"
   ]
  },
  {
   "cell_type": "code",
   "execution_count": 27,
   "metadata": {},
   "outputs": [],
   "source": [
    "def should_continue(state):\n",
    "    if state[\"revision_number\"] > state[\"max_revisions\"]:\n",
    "        return END\n",
    "    return \"reflect\""
   ]
  },
  {
   "cell_type": "code",
   "execution_count": 28,
   "metadata": {},
   "outputs": [],
   "source": [
    "builder = StateGraph(AgentState)"
   ]
  },
  {
   "cell_type": "code",
   "execution_count": 29,
   "metadata": {},
   "outputs": [],
   "source": [
    "builder.add_node(\"planner\", plan_node)\n",
    "builder.add_node(\"generate\", generation_node)\n",
    "builder.add_node(\"reflect\", reflection_node)\n",
    "builder.add_node(\"research_plan\", research_plan_node)\n",
    "builder.add_node(\"research_critique\", research_critique_node)"
   ]
  },
  {
   "cell_type": "code",
   "execution_count": 30,
   "metadata": {},
   "outputs": [],
   "source": [
    "builder.set_entry_point(\"planner\")"
   ]
  },
  {
   "cell_type": "code",
   "execution_count": 31,
   "metadata": {},
   "outputs": [],
   "source": [
    "builder.add_conditional_edges(\n",
    "    \"generate\", \n",
    "    should_continue, \n",
    "    {END: END, \"reflect\": \"reflect\"}\n",
    ")\n"
   ]
  },
  {
   "cell_type": "code",
   "execution_count": 32,
   "metadata": {},
   "outputs": [],
   "source": [
    "builder.add_edge(\"planner\", \"research_plan\")\n",
    "builder.add_edge(\"research_plan\", \"generate\")\n",
    "\n",
    "builder.add_edge(\"reflect\", \"research_critique\")\n",
    "builder.add_edge(\"research_critique\", \"generate\")"
   ]
  },
  {
   "cell_type": "code",
   "execution_count": 33,
   "metadata": {},
   "outputs": [],
   "source": [
    "graph = builder.compile(checkpointer=memory)"
   ]
  },
  {
   "cell_type": "code",
   "execution_count": 34,
   "metadata": {},
   "outputs": [
    {
     "name": "stdout",
     "output_type": "stream",
     "text": [
      "{'planner': {'plan': '**Disaster Response Plan: Floods and Landslides in Bangladesh**\\n\\n**I. Pre-Disaster Phase: Preparedness**\\n\\n1. **Risk Assessment and Planning**\\n   - Identify high-risk areas prone to floods and landslides in Bangladesh.\\n   - Develop evacuation routes and safe shelters in vulnerable regions.\\n   - Establish communication channels with local authorities, communities, and relevant organizations.\\n\\n2. **Early Warning Systems**\\n   - Implement a robust early warning system to alert communities about potential floods and landslides.\\n   - Conduct regular drills and exercises to ensure the effectiveness of the warning system.\\n\\n3. **Community Engagement**\\n   - Educate communities on disaster preparedness, evacuation procedures, and safety measures.\\n   - Train local volunteers in first aid, search and rescue techniques, and emergency response.\\n\\n**II. During Disaster Phase: Response**\\n\\n1. **Emergency Response Coordination**\\n   - Activate the emergency response team and coordinate with local authorities, NGOs, and other stakeholders.\\n   - Establish a command center to monitor the situation and coordinate rescue operations.\\n\\n2. **Search and Rescue**\\n   - Deploy trained teams to conduct search and rescue operations in affected areas.\\n   - Prioritize the rescue of vulnerable populations such as children, elderly, and individuals with disabilities.\\n\\n3. **Evacuation and Shelter**\\n   - Evacuate residents from high-risk areas to designated shelters or safe locations.\\n   - Provide essential supplies, including food, water, medical aid, and hygiene kits, to evacuees.\\n\\n4. **Medical Assistance**\\n   - Set up medical camps to provide emergency medical care to the injured.\\n   - Ensure the availability of medical supplies and personnel to address health concerns.\\n\\n**III. Post-Disaster Phase: Recovery**\\n\\n1. **Assessment and Damage Evaluation**\\n   - Conduct rapid assessments to determine the extent of damage caused by floods and landslides.\\n   - Identify immediate needs for reconstruction and rehabilitation efforts.\\n\\n2. **Rehabilitation and Reconstruction**\\n   - Initiate efforts to rebuild infrastructure, restore essential services, and rehabilitate affected communities.\\n   - Provide psychosocial support to individuals traumatized by the disaster.\\n\\n3. **Risk Reduction and Preparedness**\\n   - Implement measures to mitigate future flood and landslide risks, such as building resilient infrastructure and promoting sustainable land use practices.\\n   - Conduct training programs and awareness campaigns to enhance community preparedness for future disasters.\\n\\n**Notes:**\\n- Collaborate with international organizations and donor agencies to mobilize resources and support for the disaster response efforts.\\n- Ensure effective coordination between government agencies, NGOs, and local communities to streamline response and recovery operations.\\n- Regularly review and update the disaster response plan based on lessons learned from each disaster event.'}}\n",
      "{'research_plan': {'content': ['Humanitarian Response Plan for Cyclone Remal and Monsoon Floods in Bangladesh June-December 2024. Close to 13 million people across 30 percent of the country have been affected by three subsequent climate emergencies this year in Bangladesh.', 'Close to 13 million people across 30 percent of the country have been affected by three subsequent climate emergencies this year in Bangladesh. Cyclone Remal and the subsequent devastating floods in the North-Eastern regions of Bangladesh have affected more than 8.3 million people. One and a half million people have been displaced from their homes and 237,673 houses have been destroyed. As we ...', \"Southeast Bangladesh is profoundly affected by a landslide with an increasing trend of frequency and intensity [48, 49] (as shown in Fig. 1).For example, among 204 landslide episodes, 188 events occurred in southeast Bangladesh during 2000-2018 that caused 691 fatalities and 1041 injuries; and Chattogram was classified as the most exposed district, followed by Cox's Bazar, Bandarban ...\", 'Communities living in the Chittagong Hill Districts (CHD) of Bangladesh recurrently observe landslide disasters during the monsoon season (June-September). CHD is primarily dominated by three distinct groups of hill communities, namely, urbanised hill (Bengali), indigenous tribal and stateless Rohingya refugees. Landslide vulnerability amongst them is complex and varies between physical ...', 'National Plan for Disaster Risk Management 2021-2025 Preamble: Bangladesh is ranking as one of the most disaster-prone countries. People in Bangladesh are often affected by water-related natural disasters, including floods, riverbank erosion and cyclones. In addition, recent rapid urbanization increases the risks', 'The study reviewed the implementation of the existing disaster management policies in Bangladesh concerning three major floods over 24 years, the floods of 1988, 2004, and 2022 respectively, and compared the impacts and damage of floods by focusing on the disaster management cycle composed of four distinct components: mitigation, preparedness, response and recovery [2].']}}\n",
      "{'generate': {'draft': \"**Critique:**\\n\\n1. **Lack of Specificity:** The plan lacks specific details on the resources available, the roles and responsibilities of different stakeholders, and the timeline for various actions. Without clear specifics, implementation may face challenges.\\n\\n2. **Inadequate Focus on Vulnerable Groups:** While the plan mentions prioritizing vulnerable populations during search and rescue, more emphasis should be placed on addressing the specific needs of children, elderly, individuals with disabilities, and marginalized communities throughout all phases of the disaster response.\\n\\n3. **Limited Local Context Consideration:** The plan does not sufficiently address the unique challenges faced by different communities in Bangladesh, such as the Chittagong Hill Districts and Rohingya refugees. Tailoring response strategies to these specific contexts is crucial for effective disaster management.\\n\\n4. **Sustainability and Resilience:** While the plan briefly mentions risk reduction and preparedness measures, there is a lack of emphasis on long-term sustainability and resilience-building efforts. Incorporating more strategies for sustainable infrastructure development and community resilience would enhance the plan's effectiveness.\\n\\n**Recommendations:**\\n\\n1. **Detailed Resource Allocation:** Provide a detailed breakdown of available resources, including personnel, equipment, and funding sources. Clearly outline how these resources will be allocated across different phases of the disaster response.\\n\\n2. **Inclusive Planning:** Develop specific strategies to address the needs of vulnerable groups, including gender-sensitive approaches, culturally appropriate interventions, and targeted support for marginalized communities. Ensure that all response activities are inclusive and accessible to everyone.\\n\\n3. **Community-Centric Approach:** Engage with local communities, including the Chittagong Hill Districts and Rohingya refugees, in the planning and implementation of disaster response activities. Incorporate local knowledge and practices to enhance the effectiveness of interventions.\\n\\n4. **Long-Term Planning:** Integrate sustainable and resilient practices into the recovery phase, focusing on infrastructure development, ecosystem restoration, and capacity building for future disaster resilience. Invest in measures that reduce the underlying risk factors contributing to floods and landslides.\\n\\n5. **Monitoring and Evaluation:** Establish a robust monitoring and evaluation framework to track the progress of the disaster response plan, identify gaps or challenges, and measure the impact of interventions. Use feedback from evaluations to continuously improve the plan.\\n\\n6. **Partnership Development:** Strengthen partnerships with international organizations, donor agencies, and local stakeholders to leverage additional resources, expertise, and support for disaster response efforts. Foster collaboration and coordination among all actors involved in the response.\\n\\nBy incorporating these recommendations and enhancing the existing plan with more detailed and context-specific strategies, the disaster response efforts for floods and landslides in Bangladesh can be more effective, inclusive, and sustainable.\", 'revision_number': 2}}\n",
      "{'reflect': {'critique': '**Critique:**\\n\\n1. **Lack of Specificity:** The plan lacks specific details on the coordination mechanisms between different response agencies and how information will be shared among them. Without clear guidelines on communication and coordination, there is a risk of duplication of efforts and gaps in the response.\\n\\n2. **Limited Risk Communication:** The plan does not adequately address the importance of risk communication and community engagement in preparing for and responding to disasters. Effective communication strategies are essential for raising awareness, promoting early warning systems, and ensuring swift evacuation when necessary.\\n\\n3. **Insufficient Training and Capacity Building:** There is a lack of emphasis on training programs for response personnel and community members. Building the capacity of individuals involved in disaster response, including volunteers and local authorities, is crucial for a timely and effective response.\\n\\n4. **Inadequate Contingency Planning:** The plan does not outline specific contingency measures in case of unforeseen circumstances or if the initial response strategies prove ineffective. Having contingency plans in place can help adapt to evolving situations and ensure a more resilient response.\\n\\n**Recommendations:**\\n\\n1. **Establish Clear Communication Protocols:** Develop clear communication protocols outlining how information will be shared among response agencies, local authorities, and communities. Implement regular coordination meetings and establish a centralized communication system to facilitate information exchange.\\n\\n2. **Enhance Risk Communication:** Prioritize risk communication strategies that are tailored to different audiences, including vulnerable groups and communities in high-risk areas. Utilize various channels such as social media, community meetings, and local radio to disseminate timely and accurate information.\\n\\n3. **Invest in Training Programs:** Develop training programs for response personnel on disaster response protocols, first aid, search and rescue techniques, and psychosocial support. Conduct community-based training sessions to empower local residents with the knowledge and skills to respond effectively during emergencies.\\n\\n4. **Develop Contingency Plans:** Create contingency plans that outline alternative courses of action in case of resource shortages, infrastructure damage, or other unforeseen challenges. Identify trigger points for activating contingency measures and establish protocols for decision-making during crisis situations.\\n\\n5. **Enhance Cross-Sector Collaboration:** Foster collaboration between government agencies, non-governmental organizations, private sector partners, and community-based organizations to strengthen the overall response capacity. Encourage joint training exercises and simulation drills to test the effectiveness of coordination mechanisms.\\n\\n6. **Regular Review and Update:** Conduct regular reviews of the disaster response plan to incorporate lessons learned from previous incidents, changes in the local context, and emerging best practices in disaster management. Ensure that the plan remains dynamic and responsive to evolving needs and challenges.\\n\\nBy addressing these recommendations and strengthening key aspects of the disaster response plan, the overall effectiveness and resilience of the response efforts in Bangladesh can be significantly improved.'}}\n",
      "{'research_critique': {'content': ['Humanitarian Response Plan for Cyclone Remal and Monsoon Floods in Bangladesh June-December 2024. Close to 13 million people across 30 percent of the country have been affected by three subsequent climate emergencies this year in Bangladesh.', 'Close to 13 million people across 30 percent of the country have been affected by three subsequent climate emergencies this year in Bangladesh. Cyclone Remal and the subsequent devastating floods in the North-Eastern regions of Bangladesh have affected more than 8.3 million people. One and a half million people have been displaced from their homes and 237,673 houses have been destroyed. As we ...', \"Southeast Bangladesh is profoundly affected by a landslide with an increasing trend of frequency and intensity [48, 49] (as shown in Fig. 1).For example, among 204 landslide episodes, 188 events occurred in southeast Bangladesh during 2000-2018 that caused 691 fatalities and 1041 injuries; and Chattogram was classified as the most exposed district, followed by Cox's Bazar, Bandarban ...\", 'Communities living in the Chittagong Hill Districts (CHD) of Bangladesh recurrently observe landslide disasters during the monsoon season (June-September). CHD is primarily dominated by three distinct groups of hill communities, namely, urbanised hill (Bengali), indigenous tribal and stateless Rohingya refugees. Landslide vulnerability amongst them is complex and varies between physical ...', 'National Plan for Disaster Risk Management 2021-2025 Preamble: Bangladesh is ranking as one of the most disaster-prone countries. People in Bangladesh are often affected by water-related natural disasters, including floods, riverbank erosion and cyclones. In addition, recent rapid urbanization increases the risks', 'The study reviewed the implementation of the existing disaster management policies in Bangladesh concerning three major floods over 24 years, the floods of 1988, 2004, and 2022 respectively, and compared the impacts and damage of floods by focusing on the disaster management cycle composed of four distinct components: mitigation, preparedness, response and recovery [2].', 'Emergency Communications System Life Cycle Planning Guide: CISA collaborated with practitioners to develop the System Life Cycle Planning Guide to assist with design, implementation, support, and maintenance of public safety communications systems. The guide provides numerous steps and a high-level description of each area of systems life cycle ...', \"Developing a disaster communication plan is essential for quickly and accurately relaying information during an emergency. Without a plan, people can become overwhelmed and find themselves unable to communicate clearly and swiftly. The development of a disaster communication plan should be part of any organization's emergency management strategy.\", 'Introduction. A disaster is a \"serious disruption of the functioning of a community or a society involving widespread human, material, economic or environmental losses and impacts, which exceeds the ability of the affected community or society to cope using its own resources.\" 1 Four stages of a \\'disaster cycle\\' have been identified: Mitigation and prevention, preparedness, response ...', 'Overview. This document is intended to be used as a resource bibliography for in-depth reading about risk communication best practices. It summarizes academic research and practical guidance on the topic of hazards and disaster risk communication, with a particular focus on socially vulnerable populations.', 'The Center for Domestic Preparedness (CDP) offers more than 50 training courses at its resident campus in Anniston, Alabama, and through mobile deliveries, focusing on incident management, mass casualty response, and emergency response to a catastrophic natural disaster or terrorist act. The CDP also offers a host of virtual training deliveries. All CDP courses are accredited by the ...', \"FEMA's Center for Domestic Preparedness (CDP), located in Anniston, Alabama, is the United States Department of Homeland Security (DHS)'s only federally chartered Weapons of Mass Destruction (WMD) training center. Through its courses and integrated programs, EMI serves as the national focal point for the development and delivery of emergency ...\"]}}\n",
      "{'generate': {'draft': '**Critique:**\\n\\n1. **Lack of Specific Details:** The plan lacks specific details on the resources available, the roles and responsibilities of different stakeholders, and the timeline for various actions. Without these specifics, implementation may face challenges.\\n\\n2. **Inadequate Risk Assessment:** While the plan mentions identifying high-risk areas, it does not elaborate on the methodologies used for risk assessment or the criteria for determining vulnerability. A more detailed risk assessment is crucial for effective preparedness.\\n\\n3. **Limited Community Engagement:** While community engagement is mentioned, the plan does not detail how information will be disseminated to communities, especially considering the diverse population groups in the affected regions.\\n\\n4. **Missing Continuity of Operations:** There is no mention of continuity of operations planning to ensure that essential services continue during and after the disaster. This is crucial for maintaining critical functions.\\n\\n5. **Resource Management:** The plan does not address resource management strategies, including how resources will be allocated, tracked, and replenished during the response phase.\\n\\n**Recommendations:**\\n\\n1. **Detailed Resource Inventory:** Develop a comprehensive inventory of resources available for response, including equipment, personnel, and supplies. Assign responsibilities for managing and requesting additional resources as needed.\\n\\n2. **Enhanced Risk Assessment:** Utilize advanced technology and data to conduct detailed risk assessments, considering factors like climate change projections and population density. Involve local experts and communities in the assessment process.\\n\\n3. **Tailored Community Engagement:** Customize communication strategies for different population groups, considering language barriers, literacy levels, and cultural sensitivities. Utilize local leaders and influencers to disseminate information effectively.\\n\\n4. **Incorporate Continuity Planning:** Integrate continuity of operations planning into the response phase to ensure that critical services like healthcare, water, and sanitation remain operational during and after the disaster.\\n\\n5. **Resource Tracking System:** Implement a system for tracking and managing resources throughout the response phase. Include mechanisms for reporting resource utilization, identifying shortages, and requesting additional support.\\n\\n6. **Training and Capacity Building:** Prioritize training programs for responders, volunteers, and community members on disaster response protocols, first aid, and psychosocial support. Conduct regular drills to test preparedness levels.\\n\\n7. **Feedback Mechanism:** Establish a feedback mechanism to gather input from stakeholders, including affected communities, on the effectiveness of the response efforts. Use this feedback to continuously improve the disaster response plan.\\n\\n8. **Partnership Strengthening:** Strengthen partnerships with local, national, and international organizations to enhance coordination, resource mobilization, and knowledge sharing. Clearly define roles and responsibilities to avoid duplication of efforts.\\n\\nBy incorporating these recommendations and addressing the identified gaps, the disaster response plan can become more robust, efficient, and responsive to the needs of the affected populations during floods and landslides in Bangladesh.', 'revision_number': 3}}\n"
     ]
    }
   ],
   "source": [
    "thread = {\"configurable\": {\"thread_id\": \"1\"}}\n",
    "for s in graph.stream({\n",
    "    'task': \"Floods and Landslides in Bangladesh\",\n",
    "    \"max_revisions\": 2,\n",
    "    \"revision_number\": 1,\n",
    "}, thread):\n",
    "    print(s)"
   ]
  }
 ],
 "metadata": {
  "kernelspec": {
   "display_name": "Python 3",
   "language": "python",
   "name": "python3"
  },
  "language_info": {
   "codemirror_mode": {
    "name": "ipython",
    "version": 3
   },
   "file_extension": ".py",
   "mimetype": "text/x-python",
   "name": "python",
   "nbconvert_exporter": "python",
   "pygments_lexer": "ipython3",
   "version": "3.9.6"
  }
 },
 "nbformat": 4,
 "nbformat_minor": 2
}
