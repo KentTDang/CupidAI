{
 "cells": [
  {
   "cell_type": "code",
   "execution_count": 91,
   "metadata": {},
   "outputs": [],
   "source": [
    "from dotenv import load_dotenv\n",
    "\n",
    "_ = load_dotenv()"
   ]
  },
  {
   "cell_type": "code",
   "execution_count": 92,
   "metadata": {},
   "outputs": [],
   "source": [
    "from langgraph.graph import StateGraph, END\n",
    "from typing import TypedDict, Annotated, List\n",
    "import operator\n",
    "from langgraph.checkpoint.sqlite import SqliteSaver\n",
    "from langchain_core.messages import AnyMessage, SystemMessage, HumanMessage, AIMessage, ChatMessage\n",
    "\n",
    "memory = SqliteSaver.from_conn_string(\":memory:\")"
   ]
  },
  {
   "cell_type": "code",
   "execution_count": 93,
   "metadata": {},
   "outputs": [],
   "source": [
    "class AgentState(TypedDict):\n",
    "    task: str\n",
    "    plan: str\n",
    "    draft: str\n",
    "    critique: str\n",
    "    content: List[str]\n",
    "    revision_number: int\n",
    "    max_revisions: int"
   ]
  },
  {
   "cell_type": "code",
   "execution_count": 94,
   "metadata": {},
   "outputs": [],
   "source": [
    "from langchain_openai import ChatOpenAI\n",
    "model = ChatOpenAI(model=\"gpt-3.5-turbo\", temperature=0)"
   ]
  },
  {
   "cell_type": "code",
   "execution_count": 95,
   "metadata": {},
   "outputs": [],
   "source": [
    "PLAN_PROMPT = \"\"\"You are an expert disaster response planner tasked with creating a comprehensive \\\n",
    "    response plan for a given disaster scenario. Write such an outline for the user provided \\\n",
    "    disaster scenario. Give an outline of the plan along with any relevant notes or instructions \\\n",
    "    for the disaster response plan.\n",
    "\"\"\""
   ]
  },
  {
   "cell_type": "code",
   "execution_count": 96,
   "metadata": {},
   "outputs": [],
   "source": [
    "RESPONDER_PROMPT = \"\"\"You are a disaster response assistant tasked with executing a comprehensive disaster response plan. \\\n",
    "Utilize the detailed plan provided by the planning agent to implement the response effectively. Your responsibilities include \\\n",
    "coordinating resources, managing communication, and adapting to evolving situations. If there are updates or critiques from \\\n",
    "the planning agent or response teams, adjust your actions accordingly. Utilize all the information below as needed:\n",
    "\n",
    "------\n",
    "\n",
    "{content}\"\"\""
   ]
  },
  {
   "cell_type": "code",
   "execution_count": 97,
   "metadata": {},
   "outputs": [],
   "source": [
    "REFLECTION_PROMPT = \"\"\"You are a disaster response expert reviewing a disaster response plan. \n",
    "Generate critique and recommendations for the provided plan. \n",
    "Provide detailed recommendations, including requests for additional details, improvements in strategy, and suggestions for better resource management and communication.\n",
    "Ensure your feedback is constructive and actionable.\n",
    "\n",
    "------\n",
    "\n",
    "{content}\"\"\""
   ]
  },
  {
   "cell_type": "code",
   "execution_count": 98,
   "metadata": {},
   "outputs": [],
   "source": [
    "RESEARCH_PLAN_PROMPT = \"\"\"You are a researcher charged with providing information that can \n",
    "be used to enhance the following disaster response plan. Generate a list of search queries that will gather \n",
    "any relevant information. Only generate 3 queries max. \n",
    "\n",
    "------\n",
    "\n",
    "{content}\"\"\""
   ]
  },
  {
   "cell_type": "code",
   "execution_count": 99,
   "metadata": {},
   "outputs": [],
   "source": [
    "RESEARCH_CRITIQUE_PROMPT = \"\"\"You are a researcher charged with providing information that can \n",
    "be used to make any requested revisions to the disaster response plan (as outlined below). \n",
    "Generate a list of search queries that will gather any relevant information. Only generate 3 queries max. \n",
    "\n",
    "------\n",
    "\n",
    "{content}\"\"\""
   ]
  },
  {
   "cell_type": "code",
   "execution_count": 100,
   "metadata": {},
   "outputs": [],
   "source": [
    "from langchain_core.pydantic_v1 import BaseModel\n",
    "\n",
    "class Queries(BaseModel):\n",
    "    queries: List[str]"
   ]
  },
  {
   "cell_type": "code",
   "execution_count": 101,
   "metadata": {},
   "outputs": [],
   "source": [
    "from tavily import TavilyClient\n",
    "import os\n",
    "tavily = TavilyClient(api_key=os.environ[\"TAVILY_API_KEY\"])"
   ]
  },
  {
   "cell_type": "code",
   "execution_count": 102,
   "metadata": {},
   "outputs": [],
   "source": [
    "def plan_node(state: AgentState):\n",
    "    message = [ \n",
    "        SystemMessage(content=PLAN_PROMPT),\n",
    "        HumanMessage(content=state['task'])\n",
    "    ]\n",
    "    response = model.invoke(message)\n",
    "    return {'plan':response.content}"
   ]
  },
  {
   "cell_type": "code",
   "execution_count": 103,
   "metadata": {},
   "outputs": [],
   "source": [
    "def research_plan_node(state: AgentState):\n",
    "    queries = model.with_structured_output(Queries).invoke([\n",
    "        SystemMessage(content=RESEARCH_PLAN_PROMPT),\n",
    "        HumanMessage(content=state['task'])\n",
    "    ])\n",
    "    content = state['content'] or []\n",
    "    for q in queries.queries:\n",
    "        response = tavily.search(query=q, max_results=2)\n",
    "        for r in response['results']:\n",
    "            content.append(r['content'])\n",
    "    return {\"content\": content}"
   ]
  },
  {
   "cell_type": "code",
   "execution_count": 104,
   "metadata": {},
   "outputs": [],
   "source": [
    "def generation_node(state: AgentState):\n",
    "    content = \"\\n\\n\".join(state['content'] or [])\n",
    "    user_message = HumanMessage(\n",
    "        content=f\"{state['task']}\\n\\nHere is my plan:\\n\\n{state['plan']}\")\n",
    "    messages = [\n",
    "        SystemMessage(\n",
    "            content=REFLECTION_PROMPT.format(content=content)\n",
    "        ),\n",
    "        user_message\n",
    "        ]\n",
    "    response = model.invoke(messages)\n",
    "    return {\n",
    "        \"draft\": response.content, \n",
    "        \"revision_number\": state.get(\"revision_number\", 1) + 1\n",
    "    }\n"
   ]
  },
  {
   "cell_type": "code",
   "execution_count": 105,
   "metadata": {},
   "outputs": [],
   "source": [
    "def reflection_node(state: AgentState):\n",
    "    messages = [\n",
    "        SystemMessage(content=REFLECTION_PROMPT), \n",
    "        HumanMessage(content=state['draft'])\n",
    "    ]\n",
    "    response = model.invoke(messages)\n",
    "    return {\"critique\": response.content}"
   ]
  },
  {
   "cell_type": "code",
   "execution_count": 106,
   "metadata": {},
   "outputs": [],
   "source": [
    "def research_critique_node(state: AgentState):\n",
    "    queries = model.with_structured_output(Queries).invoke([\n",
    "        SystemMessage(content=RESEARCH_CRITIQUE_PROMPT),\n",
    "        HumanMessage(content=state['critique'])\n",
    "    ])\n",
    "    content = state['content'] or []\n",
    "    for q in queries.queries:\n",
    "        response = tavily.search(query=q, max_results=2)\n",
    "        for r in response['results']:\n",
    "            content.append(r['content'])\n",
    "    return {\"content\": content}"
   ]
  },
  {
   "cell_type": "code",
   "execution_count": 107,
   "metadata": {},
   "outputs": [],
   "source": [
    "def should_continue(state):\n",
    "    if state[\"revision_number\"] > state[\"max_revisions\"]:\n",
    "        return END\n",
    "    return \"reflect\""
   ]
  },
  {
   "cell_type": "code",
   "execution_count": 108,
   "metadata": {},
   "outputs": [],
   "source": [
    "builder = StateGraph(AgentState)"
   ]
  },
  {
   "cell_type": "code",
   "execution_count": 109,
   "metadata": {},
   "outputs": [],
   "source": [
    "builder.add_node(\"planner\", plan_node)\n",
    "builder.add_node(\"generate\", generation_node)\n",
    "builder.add_node(\"reflect\", reflection_node)\n",
    "builder.add_node(\"research_plan\", research_plan_node)\n",
    "builder.add_node(\"research_critique\", research_critique_node)"
   ]
  },
  {
   "cell_type": "code",
   "execution_count": 110,
   "metadata": {},
   "outputs": [],
   "source": [
    "builder.set_entry_point(\"planner\")"
   ]
  },
  {
   "cell_type": "code",
   "execution_count": 111,
   "metadata": {},
   "outputs": [],
   "source": [
    "builder.add_conditional_edges(\n",
    "    \"generate\", \n",
    "    should_continue, \n",
    "    {END: END, \"reflect\": \"reflect\"}\n",
    ")\n"
   ]
  },
  {
   "cell_type": "code",
   "execution_count": 112,
   "metadata": {},
   "outputs": [],
   "source": [
    "builder.add_edge(\"planner\", \"research_plan\")\n",
    "builder.add_edge(\"research_plan\", \"generate\")\n",
    "\n",
    "builder.add_edge(\"reflect\", \"research_critique\")\n",
    "builder.add_edge(\"research_critique\", \"generate\")"
   ]
  },
  {
   "cell_type": "code",
   "execution_count": 113,
   "metadata": {},
   "outputs": [],
   "source": [
    "graph = builder.compile(checkpointer=memory)"
   ]
  },
  {
   "cell_type": "code",
   "execution_count": 114,
   "metadata": {},
   "outputs": [
    {
     "name": "stdout",
     "output_type": "stream",
     "text": [
      "{'planner': {'plan': '**Disaster Response Plan: Floods and Landslides in Bangladesh**\\n\\n**I. Introduction**\\n- Brief overview of the disaster scenario: Floods and landslides in Bangladesh.\\n- Importance of preparedness and timely response to minimize loss of life and property.\\n\\n**II. Risk Assessment**\\n- Identify high-risk areas prone to floods and landslides in Bangladesh.\\n- Analyze historical data and weather forecasts to predict potential impact and severity of the disaster.\\n\\n**III. Pre-Disaster Preparedness**\\n- Develop and maintain early warning systems for floods and landslides.\\n- Conduct regular drills and training sessions for emergency response teams.\\n- Establish evacuation routes and shelters in vulnerable areas.\\n\\n**IV. Response Plan Activation**\\n- Activate the emergency response plan upon receiving alerts or warnings from relevant authorities.\\n- Mobilize resources including personnel, equipment, and supplies for immediate response.\\n\\n**V. Immediate Response Actions**\\n- Conduct search and rescue operations to save lives and evacuate affected populations.\\n- Provide emergency medical assistance to the injured.\\n- Coordinate with local authorities and NGOs for efficient response efforts.\\n\\n**VI. Communication and Coordination**\\n- Establish communication channels with all response teams, government agencies, and stakeholders.\\n- Provide regular updates to the public through media and official channels.\\n\\n**VII. Post-Disaster Recovery**\\n- Assess damage and conduct rapid needs assessment in affected areas.\\n- Provide humanitarian aid, shelter, food, and medical support to displaced populations.\\n- Initiate long-term recovery and reconstruction efforts in collaboration with relevant organizations.\\n\\n**VIII. Lessons Learned and Improvement**\\n- Conduct a thorough evaluation of the response efforts to identify strengths and areas for improvement.\\n- Update the disaster response plan based on lessons learned for better preparedness in the future.\\n\\n**IX. Conclusion**\\n- Emphasize the importance of community involvement, early warning systems, and coordinated response efforts in mitigating the impact of floods and landslides in Bangladesh.\\n\\n**Notes:**\\n- Collaborate with local authorities, NGOs, and international organizations for a more effective response.\\n- Prioritize the safety and well-being of affected populations in all response actions.\\n- Regularly review and update the disaster response plan to ensure its relevance and effectiveness.'}}\n",
      "{'research_plan': {'content': ['Humanitarian Response Plan for Cyclone Remal and Monsoon Floods in Bangladesh June-December 2024. Close to 13 million people across 30 percent of the country have been affected by three subsequent climate emergencies this year in Bangladesh. Cyclone Remal and the subsequent devastating floods in the North-Eastern regions of Bangladesh have ...', 'Close to 13 million people across 30 percent of the country have been affected by three subsequent climate emergencies this year in Bangladesh. Cyclone Remal and the subsequent devastating floods in the North-Eastern regions of Bangladesh have affected more than 8.3 million people. One and a half million people have been displaced from their homes and 237,673 houses have been destroyed. As we ...', 'In this regard, long-term landslide risk mitigation measures are indispensable for all landslide-prone countries, such as Bangladesh, where there is growing interest in studying country-specific landslide management systems to better understand the risks and vulnerabilities of landslides.', 'Communities living in the Chittagong Hill Districts (CHD) of Bangladesh recurrently observe landslide disasters during the monsoon season (June-September). CHD is primarily dominated by three distinct groups of hill communities, namely, urbanised hill (Bengali), indigenous tribal and stateless Rohingya refugees. Landslide vulnerability amongst them is complex and varies between physical ...', 'National Plan for Disaster Risk Management 2021-2025 Preamble: Bangladesh is ranking as one of the most disaster-prone countries. People in Bangladesh are often affected by water-related natural disasters, including floods, riverbank erosion and cyclones. In addition, recent rapid urbanization increases the risks', 'The study reviewed the implementation of the existing disaster management policies in Bangladesh concerning three major floods over 24 years, the floods of 1988, 2004, and 2022 respectively, and compared the impacts and damage of floods by focusing on the disaster management cycle composed of four distinct components: mitigation, preparedness, response and recovery [2].']}}\n",
      "{'generate': {'draft': 'Overall, the Disaster Response Plan for Floods and Landslides in Bangladesh is comprehensive and covers essential aspects of disaster management. However, there are areas that could be further strengthened for a more effective response. Here are some critiques and recommendations for improvement:\\n\\n1. **Risk Assessment:**\\n   - **Recommendation:** While it is mentioned to identify high-risk areas, it would be beneficial to include specific details on how these areas are identified, what criteria are used, and how this information is updated regularly. Utilizing advanced technology like GIS mapping can enhance the accuracy of risk assessments.\\n\\n2. **Pre-Disaster Preparedness:**\\n   - **Recommendation:** In addition to early warning systems and drills, consider conducting community awareness programs to educate the population on disaster preparedness and response actions they can take. Empowering communities can improve overall resilience.\\n\\n3. **Response Plan Activation:**\\n   - **Recommendation:** Clearly define the roles and responsibilities of each response team member and establish a chain of command to ensure a coordinated and efficient response. Regularly conduct simulations to test the effectiveness of the activation process.\\n\\n4. **Immediate Response Actions:**\\n   - **Recommendation:** Include specific details on the coordination mechanism between different response teams and stakeholders to avoid duplication of efforts and ensure a seamless response. Prioritize the most vulnerable populations, such as children, elderly, and persons with disabilities, in rescue operations.\\n\\n5. **Communication and Coordination:**\\n   - **Recommendation:** Develop a communication protocol that includes backup communication methods in case of network failures. Ensure that communication channels are two-way to receive feedback from the field and address any emerging challenges promptly.\\n\\n6. **Post-Disaster Recovery:**\\n   - **Recommendation:** Prioritize the establishment of temporary shelters and ensure the safety and security of displaced populations, especially women and children. Collaborate with local community leaders for effective distribution of aid and resources.\\n\\n7. **Lessons Learned and Improvement:**\\n   - **Recommendation:** Conduct debriefing sessions after each response operation to gather feedback from responders and incorporate their insights into the improvement plan. Document best practices and challenges faced for future reference.\\n\\n8. **Conclusion:**\\n   - **Recommendation:** Emphasize the importance of sustainability and resilience-building measures in the conclusion. Encourage the integration of disaster risk reduction strategies into development planning to reduce the impact of future disasters.\\n\\n9. **Resource Management:**\\n   - **Recommendation:** Clearly outline the logistics plan for the mobilization of resources, including details on stockpiles, transportation, and distribution mechanisms. Ensure that resources are pre-positioned in strategic locations for quick deployment.\\n\\n10. **Training and Capacity Building:**\\n    - **Recommendation:** Invest in continuous training for response teams to enhance their skills and knowledge in disaster response. Consider cross-training personnel to handle multiple roles during emergencies.\\n\\nBy incorporating these recommendations and providing more specific details in the plan, the response to floods and landslides in Bangladesh can be more robust and efficient. Regular drills, community engagement, and continuous improvement are key to building resilience and saving lives during disasters.', 'revision_number': 2}}\n",
      "{'reflect': {'critique': 'Your Disaster Response Plan for Floods and Landslides in Bangladesh is a solid foundation, but there are several areas that could benefit from improvement. Here are some detailed recommendations for enhancing the plan:\\n\\n1. **Risk Assessment:**\\n   - Request more information on the methodology used for risk assessment and the specific indicators considered. Consider involving local communities and experts in the assessment process for a more comprehensive understanding of vulnerabilities.\\n\\n2. **Pre-Disaster Preparedness:**\\n   - Strengthen community engagement by establishing Community Disaster Management Committees to facilitate local response efforts. Provide training to community members on basic first aid, search and rescue techniques, and evacuation procedures.\\n\\n3. **Response Plan Activation:**\\n   - Develop a clear Incident Action Plan (IAP) outlining objectives, strategies, and tactics for each phase of the response. Ensure that all response team members are familiar with the IAP and their roles through regular training sessions.\\n\\n4. **Immediate Response Actions:**\\n   - Implement a unified command structure to streamline decision-making and coordination among response agencies. Establish a Joint Operations Center to facilitate information sharing and resource allocation in real-time.\\n\\n5. **Communication and Coordination:**\\n   - Integrate social media platforms and community radio networks into the communication strategy to reach a wider audience. Establish liaison officers to coordinate with external agencies and ensure seamless information flow.\\n\\n6. **Post-Disaster Recovery:**\\n   - Develop a comprehensive recovery plan that addresses not only immediate needs but also long-term rehabilitation and reconstruction efforts. Engage with local NGOs and community-based organizations to support recovery initiatives.\\n\\n7. **Lessons Learned and Improvement:**\\n   - Create a standardized template for post-event evaluations to capture key learnings and recommendations for improvement. Share these findings with relevant stakeholders and incorporate them into future training programs and exercises.\\n\\n8. **Resource Management:**\\n   - Conduct regular inventory checks of stockpiles and equipment to ensure readiness. Explore partnerships with private sector entities for resource sharing and mutual aid agreements to enhance resource availability during emergencies.\\n\\n9. **Training and Capacity Building:**\\n   - Offer specialized training courses on topics such as Incident Command System (ICS), mass casualty management, and psychosocial support for responders. Establish a mentorship program to transfer knowledge and skills to new team members.\\n\\nBy addressing these recommendations and refining the existing plan, the disaster response capabilities in Bangladesh can be significantly strengthened. Continuous learning, collaboration, and innovation are essential for effective disaster management and resilience-building efforts.'}}\n",
      "{'research_critique': {'content': ['Humanitarian Response Plan for Cyclone Remal and Monsoon Floods in Bangladesh June-December 2024. Close to 13 million people across 30 percent of the country have been affected by three subsequent climate emergencies this year in Bangladesh. Cyclone Remal and the subsequent devastating floods in the North-Eastern regions of Bangladesh have ...', 'Close to 13 million people across 30 percent of the country have been affected by three subsequent climate emergencies this year in Bangladesh. Cyclone Remal and the subsequent devastating floods in the North-Eastern regions of Bangladesh have affected more than 8.3 million people. One and a half million people have been displaced from their homes and 237,673 houses have been destroyed. As we ...', 'In this regard, long-term landslide risk mitigation measures are indispensable for all landslide-prone countries, such as Bangladesh, where there is growing interest in studying country-specific landslide management systems to better understand the risks and vulnerabilities of landslides.', 'Communities living in the Chittagong Hill Districts (CHD) of Bangladesh recurrently observe landslide disasters during the monsoon season (June-September). CHD is primarily dominated by three distinct groups of hill communities, namely, urbanised hill (Bengali), indigenous tribal and stateless Rohingya refugees. Landslide vulnerability amongst them is complex and varies between physical ...', 'National Plan for Disaster Risk Management 2021-2025 Preamble: Bangladesh is ranking as one of the most disaster-prone countries. People in Bangladesh are often affected by water-related natural disasters, including floods, riverbank erosion and cyclones. In addition, recent rapid urbanization increases the risks', 'The study reviewed the implementation of the existing disaster management policies in Bangladesh concerning three major floods over 24 years, the floods of 1988, 2004, and 2022 respectively, and compared the impacts and damage of floods by focusing on the disaster management cycle composed of four distinct components: mitigation, preparedness, response and recovery [2].', 'The need for flood risk evaluation in Bangladesh is underscored by its unique geographic location, dense population, and regular encounters with severe hydro-meteorological phenomena. Previous literature has brought broad attention to flood extent mapping and simulation modeling; however, a gap remains in understanding the spatial and temporal dynamics of flood exposure in Bangladesh. This ...', 'In this regard, long-term landslide risk mitigation measures are indispensable for all landslide-prone countries, such as Bangladesh, where there is growing interest in studying country-specific landslide management systems to better understand the risks and vulnerabilities of landslides.', 'In this article, we focus on how national disaster management policy initiatives in Bangladesh are implementing community-based approaches at the local level and developing cross-scale partnerships to reduce disaster risk and vulnerability, thus enhancing community resilience to disasters.', 'Community Participations in Disaster Management: A Case. Study of Bangladesh. Indian Journal of Ecology (2016) 43 (2): 463-472. Abstract: Peoples of the Bangladesh witness natural and other ...', \"The exposure to natural hazards has prompted Bangladesh to institutionalize disaster management and coordination. This report examines Bangladesh's established disaster management structures and the role of key actors through reviewing existing literature from international organisations, academia, and think tanks, followed by interviews with key disaster management stakeholders in ...\", 'structure is a system (e.g., a unified command system) that brings together the functions of the local government, state government, federal government, and the Responsible Party (RP) to achieve an effective and efficient response.7 In addition, the Hazardous Waste Operations and Emergency Response (HAZWOPER) standards include']}}\n",
      "{'generate': {'draft': '### Critique and Recommendations:\\n\\n#### 1. **Risk Assessment:**\\n- **Critique:** The plan mentions identifying high-risk areas but lacks details on the methodology used for risk assessment.\\n- **Recommendation:** Provide information on the specific criteria used to identify high-risk areas, such as elevation, proximity to water bodies, soil type, etc. This will enhance the accuracy of risk assessment.\\n\\n#### 2. **Pre-Disaster Preparedness:**\\n- **Critique:** While early warning systems and drills are mentioned, there is no mention of community engagement or awareness programs.\\n- **Recommendation:** Include community training programs to educate residents on evacuation procedures, first aid, and disaster preparedness. Engaging the community can significantly improve response effectiveness.\\n\\n#### 3. **Immediate Response Actions:**\\n- **Critique:** The plan outlines search and rescue operations but lacks details on resource allocation and coordination.\\n- **Recommendation:** Specify the roles and responsibilities of each response team, allocate resources effectively, and establish a clear chain of command to ensure efficient coordination during response operations.\\n\\n#### 4. **Communication and Coordination:**\\n- **Critique:** While communication channels are mentioned, there is no mention of a centralized communication hub or backup systems.\\n- **Recommendation:** Establish a centralized communication hub to streamline information flow and ensure redundancy with backup systems in case of communication failures.\\n\\n#### 5. **Post-Disaster Recovery:**\\n- **Critique:** The plan mentions rapid needs assessment but lacks details on data collection methods and coordination with other agencies.\\n- **Recommendation:** Provide specifics on how needs assessments will be conducted, involve local communities in the process, and collaborate with other agencies to avoid duplication of efforts.\\n\\n#### 6. **Lessons Learned and Improvement:**\\n- **Critique:** While evaluating response efforts is mentioned, there is no mention of a timeline for conducting the evaluation.\\n- **Recommendation:** Schedule a post-disaster evaluation within a specific timeframe to capture immediate feedback while lessons are fresh. This will enable prompt updates to the response plan.\\n\\n#### 7. **Conclusion:**\\n- **Recommendation:** Emphasize the importance of inclusivity and diversity in disaster response, ensuring that vulnerable groups are considered in all aspects of the plan.\\n\\n#### General Recommendations:\\n- **Resource Management:** Clearly outline resource requirements, procurement procedures, and mechanisms for resource allocation to ensure efficient utilization during response operations.\\n- **Training and Capacity Building:** Prioritize continuous training for response teams and stakeholders to enhance their skills and readiness for disaster response.\\n- **Monitoring and Evaluation:** Implement a robust monitoring and evaluation framework to track the effectiveness of response efforts and make data-driven decisions for improvement.\\n\\nBy incorporating these recommendations and enhancing the plan with more specific details and strategies, the disaster response plan for floods and landslides in Bangladesh can become more comprehensive and effective in addressing the needs of affected populations.', 'revision_number': 3}}\n"
     ]
    }
   ],
   "source": [
    "thread = {\"configurable\": {\"thread_id\": \"1\"}}\n",
    "for s in graph.stream({\n",
    "    'task': \"Floods and Landslides in Bangladesh\",\n",
    "    \"max_revisions\": 2,\n",
    "    \"revision_number\": 1,\n",
    "}, thread):\n",
    "    print(s)"
   ]
  }
 ],
 "metadata": {
  "kernelspec": {
   "display_name": "Python 3",
   "language": "python",
   "name": "python3"
  },
  "language_info": {
   "codemirror_mode": {
    "name": "ipython",
    "version": 3
   },
   "file_extension": ".py",
   "mimetype": "text/x-python",
   "name": "python",
   "nbconvert_exporter": "python",
   "pygments_lexer": "ipython3",
   "version": "3.12.4"
  }
 },
 "nbformat": 4,
 "nbformat_minor": 2
}
