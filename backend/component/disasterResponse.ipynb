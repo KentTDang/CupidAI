{
 "cells": [
  {
   "cell_type": "code",
   "execution_count": 2,
   "metadata": {},
   "outputs": [],
   "source": [
    "from dotenv import load_dotenv\n",
    "\n",
    "_ = load_dotenv()"
   ]
  },
  {
   "cell_type": "code",
   "execution_count": 3,
   "metadata": {},
   "outputs": [
    {
     "name": "stderr",
     "output_type": "stream",
     "text": [
      "/Users/kentdang/Projects/Disaster-Response/.venv/lib/python3.9/site-packages/urllib3/__init__.py:35: NotOpenSSLWarning: urllib3 v2 only supports OpenSSL 1.1.1+, currently the 'ssl' module is compiled with 'LibreSSL 2.8.3'. See: https://github.com/urllib3/urllib3/issues/3020\n",
      "  warnings.warn(\n"
     ]
    }
   ],
   "source": [
    "from langgraph.graph import StateGraph, END\n",
    "from typing import TypedDict, Annotated, List\n",
    "import operator\n",
    "from langgraph.checkpoint.sqlite import SqliteSaver\n",
    "from langchain_core.messages import AnyMessage, SystemMessage, HumanMessage, AIMessage, ChatMessage\n",
    "\n",
    "memory = SqliteSaver.from_conn_string(\":memory:\")"
   ]
  },
  {
   "cell_type": "code",
   "execution_count": 4,
   "metadata": {},
   "outputs": [],
   "source": [
    "class AgentState(TypedDict):\n",
    "    task: str\n",
    "    plan: str\n",
    "    draft: str\n",
    "    critique: str\n",
    "    content: List[str]\n",
    "    revision_number: int\n",
    "    max_revisions: int"
   ]
  },
  {
   "cell_type": "code",
   "execution_count": 5,
   "metadata": {},
   "outputs": [],
   "source": [
    "from langchain_openai import ChatOpenAI\n",
    "model = ChatOpenAI(model=\"gpt-3.5-turbo\", temperature=0)"
   ]
  },
  {
   "cell_type": "code",
   "execution_count": 6,
   "metadata": {},
   "outputs": [],
   "source": [
    "PLAN_PROMPT = \"\"\"You are an expert disaster response planner tasked with creating a comprehensive \\\n",
    "    response plan for a given disaster scenario. Write such an outline for the user provided \\\n",
    "    disaster scenario. Give an outline of the plan along with any relevant notes or instructions \\\n",
    "    for the disaster response plan.\n",
    "\"\"\""
   ]
  },
  {
   "cell_type": "code",
   "execution_count": 7,
   "metadata": {},
   "outputs": [],
   "source": [
    "RESPONDER_PROMPT = \"\"\"You are a disaster response assistant tasked with executing a comprehensive disaster response plan. \\\n",
    "Utilize the detailed plan provided by the planning agent to implement the response effectively. Your responsibilities include \\\n",
    "coordinating resources, managing communication, and adapting to evolving situations. If there are updates or critiques from \\\n",
    "the planning agent or response teams, adjust your actions accordingly. Utilize all the information below as needed:\n",
    "\n",
    "------\n",
    "\n",
    "{content}\"\"\""
   ]
  },
  {
   "cell_type": "code",
   "execution_count": 8,
   "metadata": {},
   "outputs": [],
   "source": [
    "REFLECTION_PROMPT = \"\"\"You are a disaster response expert reviewing a disaster response plan. \n",
    "Generate critique and recommendations for the provided plan. \n",
    "Provide detailed recommendations, including requests for additional details, improvements in strategy, and suggestions for better resource management and communication.\n",
    "Ensure your feedback is constructive and actionable.\n",
    "\n",
    "------\n",
    "\n",
    "{content}\"\"\""
   ]
  },
  {
   "cell_type": "code",
   "execution_count": 9,
   "metadata": {},
   "outputs": [],
   "source": [
    "RESEARCH_PLAN_PROMPT = \"\"\"You are a researcher charged with providing information that can \n",
    "be used to enhance the following disaster response plan. Generate a list of search queries that will gather \n",
    "any relevant information. Only generate 3 queries max. \n",
    "\n",
    "------\n",
    "\n",
    "{content}\"\"\""
   ]
  },
  {
   "cell_type": "code",
   "execution_count": 10,
   "metadata": {},
   "outputs": [],
   "source": [
    "RESEARCH_CRITIQUE_PROMPT = \"\"\"You are a researcher charged with providing information that can \n",
    "be used to make any requested revisions to the disaster response plan (as outlined below). \n",
    "Generate a list of search queries that will gather any relevant information. Only generate 3 queries max. \n",
    "\n",
    "------\n",
    "\n",
    "{content}\"\"\""
   ]
  },
  {
   "cell_type": "code",
   "execution_count": 11,
   "metadata": {},
   "outputs": [],
   "source": [
    "from langchain_core.pydantic_v1 import BaseModel\n",
    "\n",
    "class Queries(BaseModel):\n",
    "    queries: List[str]"
   ]
  },
  {
   "cell_type": "code",
   "execution_count": 12,
   "metadata": {},
   "outputs": [],
   "source": [
    "from tavily import TavilyClient\n",
    "import os\n",
    "tavily = TavilyClient(api_key=os.environ[\"TAVILY_API_KEY\"])"
   ]
  },
  {
   "cell_type": "code",
   "execution_count": 13,
   "metadata": {},
   "outputs": [],
   "source": [
    "def plan_node(state: AgentState):\n",
    "    message = [ \n",
    "        SystemMessage(content=PLAN_PROMPT),\n",
    "        HumanMessage(content=state['task'])\n",
    "    ]\n",
    "    response = model.invoke(message)\n",
    "    return {'plan':response.content}"
   ]
  },
  {
   "cell_type": "code",
   "execution_count": 14,
   "metadata": {},
   "outputs": [],
   "source": [
    "def research_plan_node(state: AgentState):\n",
    "    queries = model.with_structured_output(Queries).invoke([\n",
    "        SystemMessage(content=RESEARCH_PLAN_PROMPT),\n",
    "        HumanMessage(content=state['task'])\n",
    "    ])\n",
    "    content = state['content'] or []\n",
    "    for q in queries.queries:\n",
    "        response = tavily.search(query=q, max_results=2)\n",
    "        for r in response['results']:\n",
    "            content.append(r['content'])\n",
    "    return {\"content\": content}"
   ]
  },
  {
   "cell_type": "code",
   "execution_count": 15,
   "metadata": {},
   "outputs": [],
   "source": [
    "def generation_node(state: AgentState):\n",
    "    content = \"\\n\\n\".join(state['content'] or [])\n",
    "    user_message = HumanMessage(\n",
    "        content=f\"{state['task']}\\n\\nHere is my plan:\\n\\n{state['plan']}\")\n",
    "    messages = [\n",
    "        SystemMessage(\n",
    "            content=REFLECTION_PROMPT.format(content=content)\n",
    "        ),\n",
    "        user_message\n",
    "        ]\n",
    "    response = model.invoke(messages)\n",
    "    return {\n",
    "        \"draft\": response.content, \n",
    "        \"revision_number\": state.get(\"revision_number\", 1) + 1\n",
    "    }\n"
   ]
  },
  {
   "cell_type": "code",
   "execution_count": 16,
   "metadata": {},
   "outputs": [],
   "source": [
    "def reflection_node(state: AgentState):\n",
    "    messages = [\n",
    "        SystemMessage(content=REFLECTION_PROMPT), \n",
    "        HumanMessage(content=state['draft'])\n",
    "    ]\n",
    "    response = model.invoke(messages)\n",
    "    return {\"critique\": response.content}"
   ]
  },
  {
   "cell_type": "code",
   "execution_count": 17,
   "metadata": {},
   "outputs": [],
   "source": [
    "def research_critique_node(state: AgentState):\n",
    "    queries = model.with_structured_output(Queries).invoke([\n",
    "        SystemMessage(content=RESEARCH_CRITIQUE_PROMPT),\n",
    "        HumanMessage(content=state['critique'])\n",
    "    ])\n",
    "    content = state['content'] or []\n",
    "    for q in queries.queries:\n",
    "        response = tavily.search(query=q, max_results=2)\n",
    "        for r in response['results']:\n",
    "            content.append(r['content'])\n",
    "    return {\"content\": content}"
   ]
  },
  {
   "cell_type": "code",
   "execution_count": 18,
   "metadata": {},
   "outputs": [],
   "source": [
    "def should_continue(state):\n",
    "    if state[\"revision_number\"] > state[\"max_revisions\"]:\n",
    "        return END\n",
    "    return \"reflect\""
   ]
  },
  {
   "cell_type": "code",
   "execution_count": 19,
   "metadata": {},
   "outputs": [],
   "source": [
    "builder = StateGraph(AgentState)"
   ]
  },
  {
   "cell_type": "code",
   "execution_count": 20,
   "metadata": {},
   "outputs": [],
   "source": [
    "builder.add_node(\"planner\", plan_node)\n",
    "builder.add_node(\"generate\", generation_node)\n",
    "builder.add_node(\"reflect\", reflection_node)\n",
    "builder.add_node(\"research_plan\", research_plan_node)\n",
    "builder.add_node(\"research_critique\", research_critique_node)"
   ]
  },
  {
   "cell_type": "code",
   "execution_count": 21,
   "metadata": {},
   "outputs": [],
   "source": [
    "builder.set_entry_point(\"planner\")"
   ]
  },
  {
   "cell_type": "code",
   "execution_count": 22,
   "metadata": {},
   "outputs": [],
   "source": [
    "builder.add_conditional_edges(\n",
    "    \"generate\", \n",
    "    should_continue, \n",
    "    {END: END, \"reflect\": \"reflect\"}\n",
    ")\n"
   ]
  },
  {
   "cell_type": "code",
   "execution_count": 23,
   "metadata": {},
   "outputs": [],
   "source": [
    "builder.add_edge(\"planner\", \"research_plan\")\n",
    "builder.add_edge(\"research_plan\", \"generate\")\n",
    "\n",
    "builder.add_edge(\"reflect\", \"research_critique\")\n",
    "builder.add_edge(\"research_critique\", \"generate\")"
   ]
  },
  {
   "cell_type": "code",
   "execution_count": 24,
   "metadata": {},
   "outputs": [],
   "source": [
    "graph = builder.compile(checkpointer=memory)"
   ]
  },
  {
   "cell_type": "code",
   "execution_count": 25,
   "metadata": {},
   "outputs": [
    {
     "name": "stdout",
     "output_type": "stream",
     "text": [
      "{'planner': {'plan': '**Disaster Response Plan: Floods and Landslides in Bangladesh**\\n\\n**I. Pre-Disaster Phase: Preparedness**\\n\\n1. **Risk Assessment and Planning**\\n   - Identify high-risk areas prone to floods and landslides.\\n   - Develop evacuation routes and safe shelters.\\n   - Establish early warning systems and communication channels.\\n\\n2. **Community Awareness and Training**\\n   - Conduct regular drills and training sessions for community members.\\n   - Educate the population on safety measures and evacuation procedures.\\n   - Distribute informational materials in local languages.\\n\\n3. **Resource Stockpiling**\\n   - Pre-position emergency supplies like food, water, medical supplies, and blankets.\\n   - Ensure availability of rescue equipment such as boats, life jackets, and ropes.\\n   - Coordinate with local authorities and NGOs for additional support.\\n\\n**II. During Disaster Phase: Response**\\n\\n1. **Early Warning and Activation**\\n   - Monitor weather forecasts and river levels for early detection.\\n   - Activate the warning systems to alert the population.\\n   - Initiate evacuation procedures as necessary.\\n\\n2. **Search and Rescue Operations**\\n   - Deploy trained teams to conduct search and rescue operations.\\n   - Prioritize saving lives and providing immediate medical assistance.\\n   - Coordinate with local authorities and emergency services for support.\\n\\n3. **Emergency Shelter and Aid Distribution**\\n   - Set up temporary shelters in safe locations for displaced individuals.\\n   - Distribute emergency aid including food, water, and hygiene kits.\\n   - Ensure access to healthcare services for the affected population.\\n\\n**III. Post-Disaster Phase: Recovery**\\n\\n1. **Assessment and Damage Evaluation**\\n   - Conduct rapid assessments to determine the extent of damage.\\n   - Identify vulnerable populations in need of special assistance.\\n   - Collaborate with government agencies and NGOs for comprehensive evaluations.\\n\\n2. **Rehabilitation and Reconstruction**\\n   - Implement measures to prevent future floods and landslides.\\n   - Rebuild infrastructure, homes, and livelihoods in affected areas.\\n   - Provide psychosocial support for trauma-affected individuals.\\n\\n3. **Community Resilience Building**\\n   - Engage communities in long-term resilience-building activities.\\n   - Develop sustainable disaster risk reduction strategies.\\n   - Establish mechanisms for ongoing monitoring and evaluation.\\n\\n**Notes:**\\n- Coordinate closely with local authorities, NGOs, and international agencies for a coordinated response.\\n- Maintain clear communication channels to ensure timely dissemination of information.\\n- Prioritize the safety and well-being of vulnerable groups such as children, elderly, and persons with disabilities.\\n- Regularly review and update the response plan based on lessons learned from each disaster event.'}}\n",
      "{'research_plan': {'content': ['Humanitarian Response Plan for Cyclone Remal and Monsoon Floods in Bangladesh June-December 2024. Close to 13 million people across 30 percent of the country have been affected by three subsequent climate emergencies this year in Bangladesh.', 'Close to 13 million people across 30 percent of the country have been affected by three subsequent climate emergencies this year in Bangladesh. Cyclone Remal and the subsequent devastating floods in the North-Eastern regions of Bangladesh have affected more than 8.3 million people. One and a half million people have been displaced from their homes and 237,673 houses have been destroyed. As we ...', 'Humanitarian Response Plan for Cyclone Remal and Monsoon Floods in Bangladesh June-December 2024. Close to 13 million people across 30 percent of the country have been affected by three subsequent climate emergencies this year in Bangladesh.', 'In this regard, long-term landslide risk mitigation measures are indispensable for all landslide-prone countries, such as Bangladesh, where there is growing interest in studying country-specific landslide management systems to better understand the risks and vulnerabilities of landslides.', 'Humanitarian Response Plan for Cyclone Remal and Monsoon Floods in Bangladesh June-December 2024. Close to 13 million people across 30 percent of the country have been affected by three subsequent climate emergencies this year in Bangladesh.', \"Coordination and command system to manage disaster response: The country's capacity to provide efficient and timely disaster response in times of major disasters is overwhelmed as coordination and incident command system for such 'non-routine' disasters are not well established.\"]}}\n",
      "{'generate': {'draft': '**Critique:**\\n\\n1. **Lack of Specific Details:** The plan lacks specific details on the exact locations of high-risk areas, the number of evacuation routes and shelters, and the capacity of early warning systems. Without these specifics, it may be challenging to implement the plan effectively.\\n\\n2. **Limited Focus on Landslide Risk:** While floods are addressed in the plan, there is a lack of emphasis on landslide risk assessment, planning, and response. Given the vulnerability of Bangladesh to landslides, it is crucial to include specific measures targeting this hazard.\\n\\n3. **Resource Management:** The plan mentions stockpiling emergency supplies and coordinating with local authorities and NGOs but does not provide details on how these resources will be managed, distributed, and replenished during and after disasters. Clear protocols for resource allocation are essential for an efficient response.\\n\\n4. **Inadequate Community Engagement:** While community awareness and training are mentioned, the plan could benefit from more details on how communities will be actively involved in preparedness, response, and recovery efforts. Engaging local populations can enhance the effectiveness and sustainability of the response.\\n\\n**Recommendations:**\\n\\n1. **Detailed Risk Assessment:** Conduct a comprehensive risk assessment to identify specific high-risk areas for floods and landslides, including vulnerability mapping and population demographics. This information will guide targeted preparedness and response actions.\\n\\n2. **Incorporate Landslide Preparedness:** Develop a separate section in the plan focusing on landslide risk mitigation, including measures such as slope stabilization, early warning systems for landslides, and community training on landslide safety.\\n\\n3. **Resource Management Plan:** Create a detailed resource management plan outlining the procurement, storage, distribution, and monitoring of emergency supplies. Establish clear protocols for requesting and coordinating additional resources from partners.\\n\\n4. **Community Participation Strategy:** Design a community engagement strategy that involves local residents in all phases of disaster management. Encourage community-led initiatives, establish local response teams, and integrate traditional knowledge into the response plan.\\n\\n5. **Training and Capacity Building:** Prioritize training programs for response teams, community volunteers, and local authorities on disaster response protocols. Conduct regular drills and simulations to test the effectiveness of the plan and identify areas for improvement.\\n\\n6. **Monitoring and Evaluation Framework:** Develop a robust monitoring and evaluation framework to assess the implementation of the plan, measure its impact on communities, and capture lessons learned for future disasters. Regularly review and update the plan based on feedback and evaluations.\\n\\nBy incorporating these recommendations and enhancing the plan with more specific details, a more comprehensive and effective response to floods and landslides in Bangladesh can be achieved.', 'revision_number': 2}}\n",
      "{'reflect': {'critique': 'Your disaster response plan is a crucial document that requires thorough evaluation and enhancement to ensure its effectiveness in mitigating the impact of floods and landslides in Bangladesh. Here are some detailed recommendations for improving the plan:\\n\\n1. **Risk Assessment and Mapping:**\\n   - Conduct a detailed risk assessment that includes vulnerability mapping, population demographics, and historical data on flood and landslide occurrences. This information will help in identifying high-risk areas and prioritizing interventions.\\n\\n2. **Early Warning Systems:**\\n   - Enhance the capacity of early warning systems for both floods and landslides. Ensure that these systems are reliable, accessible to vulnerable communities, and integrated with communication channels to disseminate alerts effectively.\\n\\n3. **Evacuation Planning:**\\n   - Develop a comprehensive evacuation plan that includes multiple evacuation routes, designated shelters with sufficient capacity, and arrangements for vulnerable populations such as the elderly, children, and persons with disabilities.\\n\\n4. **Resource Management and Logistics:**\\n   - Establish clear protocols for the procurement, storage, and distribution of emergency supplies. Regularly update and replenish stockpiles, and ensure coordination with local authorities, NGOs, and other partners for efficient resource management.\\n\\n5. **Capacity Building:**\\n   - Provide regular training sessions for response teams, community volunteers, and local authorities on disaster response protocols, search and rescue techniques, first aid, and psychosocial support. Conduct joint exercises to enhance coordination and readiness.\\n\\n6. **Communication and Coordination:**\\n   - Improve communication channels among stakeholders by establishing a dedicated communication system for disaster response. Ensure that information is disseminated in a timely and accurate manner to all involved parties.\\n\\n7. **Post-Disaster Recovery:**\\n   - Develop a post-disaster recovery plan that focuses on rebuilding infrastructure, restoring livelihoods, and providing psychosocial support to affected communities. Ensure that recovery efforts are sustainable and inclusive.\\n\\n8. **Partnerships and Collaboration:**\\n   - Strengthen partnerships with local communities, government agencies, NGOs, private sector entities, and international organizations. Collaborate on joint initiatives, share resources, and leverage expertise to enhance the overall response capacity.\\n\\n9. **Regular Plan Review and Updates:**\\n   - Establish a mechanism for regular review and updates of the disaster response plan based on lessons learned from previous disasters, changing risk profiles, and emerging best practices in disaster management.\\n\\nBy incorporating these recommendations and addressing the identified gaps in the plan, you can enhance the resilience of Bangladesh to floods and landslides and ensure a more effective and coordinated response to future disasters.'}}\n",
      "{'research_critique': {'content': ['Humanitarian Response Plan for Cyclone Remal and Monsoon Floods in Bangladesh June-December 2024. Close to 13 million people across 30 percent of the country have been affected by three subsequent climate emergencies this year in Bangladesh.', 'Close to 13 million people across 30 percent of the country have been affected by three subsequent climate emergencies this year in Bangladesh. Cyclone Remal and the subsequent devastating floods in the North-Eastern regions of Bangladesh have affected more than 8.3 million people. One and a half million people have been displaced from their homes and 237,673 houses have been destroyed. As we ...', 'Humanitarian Response Plan for Cyclone Remal and Monsoon Floods in Bangladesh June-December 2024. Close to 13 million people across 30 percent of the country have been affected by three subsequent climate emergencies this year in Bangladesh.', 'In this regard, long-term landslide risk mitigation measures are indispensable for all landslide-prone countries, such as Bangladesh, where there is growing interest in studying country-specific landslide management systems to better understand the risks and vulnerabilities of landslides.', 'Humanitarian Response Plan for Cyclone Remal and Monsoon Floods in Bangladesh June-December 2024. Close to 13 million people across 30 percent of the country have been affected by three subsequent climate emergencies this year in Bangladesh.', \"Coordination and command system to manage disaster response: The country's capacity to provide efficient and timely disaster response in times of major disasters is overwhelmed as coordination and incident command system for such 'non-routine' disasters are not well established.\", 'Landslide hazard assessment. Landslide hazard is a function of susceptibility (spatial propensity to landslide activity) and temporal frequency of landslide triggers, and its assessment may be done on local (individual slope), regional, national, continental, or even global scales. The most appropriate method in each scale depends on the extent ...', 'The study was performed by applying two different MCA methods—the BVT (Bana e Costa et al. 2004) and the MDST (Andersson-Sköld et al. 2014a)—for the assessment of two different risk-reducing measures.The material is based on literature, available information from authorities and municipalities, expert knowledge and experience, and stakeholder workshops.', 'Why scientists trust AI too much — and what to do about it\\nEditorial 06 MAR 24\\nMillions of research papers at risk of disappearing from the Internet\\nNews 04 MAR 24\\n‘Global swimways’ on free-flowing rivers will protect key migratory fish species\\nCorrespondence 19 MAR 24\\nHow to stop ‘passing the harasser’: universities urged to join information-sharing scheme\\nNews 18 MAR 24\\nTake these steps to accelerate the path to gender equity in health sciences\\nNature Index 13 MAR 24\\nJobs\\nAn opportunity for the best and brightest talented educators to be part of our future at the Faculty of Medicine and Health.\\n Related Articles\\nWith the arrival of El Niño, prepare for stronger marine heatwaves\\nFlash floods: why are more of them devastating the world’s driest regions?\\nHow to reduce Africa’s undue exposure to climate risks\\nA new model for public health in Africa can become a reality\\nMeet the scientists planning for disasters\\nGlacier collapse: devise reliable warning systems\\nSubjects\\nLatest on:\\nDivas, captains, ghosts, ants and bumble-bees: collaborator attitudes explained\\nCareer Column 15 MAR 24\\nThree actions PhD-holders should take to land their next job\\nCareer Column 13 MAR 24\\n Related Articles\\nWith the arrival of El Niño, prepare for stronger marine heatwaves\\nFlash floods: why are more of them devastating the world’s driest regions?\\nHow to reduce Africa’s undue exposure to climate risks\\nA new model for public health in Africa can become a reality\\nMeet the scientists planning for disasters\\nGlacier collapse: devise reliable warning systems\\nSubjects\\nSign up to Nature Briefing\\nAn essential round-up of science news, opinion and analysis, delivered to your inbox every weekday.\\n In 2015, 187 member states of the United Nations adopted a multi-hazard management plan to avert risks and minimize losses through seven global targets:\\nReduce\\n(a) the number of deaths and missing persons linked to disasters worldwide;\\n(b) the number of people affected, including by injury, sickness, damage to habitations or disruptions to livelihoods;\\n(c) direct economic losses, including agricultural losses and damage to cultural heritage;\\n(d) damage and disruptions to infrastructure and services, including education and health.\\n Increase\\n(e) the number of countries with local and national risk-reduction strategies;\\n(f) international and regional support, such as through exchange of science, technology and innovation in risk reduction;\\n(g) the availability of, and access to, multi-hazard information and early warnings, including through monitoring and forecasting systems.\\n', 'Of all risk reduction and climate change adaptation measures, early warning and early action stand as one of the best-proven and cost-effective methods to save lives and reduce the economic impact of natural hazards. UNESCO supports countries in establishing, maintaining and improving early warning systems, which are an essential component of disaster risk reduction.', 'Purpose This document supports state, local, tribal, and territorial partners in planning for evacuation and/or shelter-in-place protective actions.1 It summarizes characteristics that jurisdictions should consider when planning for evacuation and/or shelter-in-place operations and builds on Comprehensive Preparedness Guide (CPG) 101: Developing and Maintaining Emergency Operations Plans by ...', 'Comprehensive Preparedness Guide 101 i Preface Comprehensive Preparedness Guide ( CPG) 101 provides guidance from FEMA on the fundamentals of planning and developing emergency operations plans.']}}\n",
      "{'generate': {'draft': \"**Critique:**\\n\\n1. **Lack of Specific Details:** The plan lacks specific details on the exact locations of high-risk areas, evacuation routes, and safe shelters. Without precise information, it may be challenging to implement the plan effectively during a crisis.\\n\\n2. **Limited Focus on Landslide Risk:** While floods are addressed in the plan, there is a lack of emphasis on landslide risk assessment and mitigation measures. Given Bangladesh's susceptibility to landslides, it is crucial to include specific actions to address this hazard.\\n\\n3. **Inadequate Training:** While community awareness and training are mentioned, the plan does not specify the frequency or depth of training sessions. Regular and comprehensive training is essential for ensuring that communities are well-prepared to respond to disasters.\\n\\n4. **Resource Management:** The plan briefly mentions resource stockpiling but lacks details on how these resources will be managed, rotated, and replenished. Clear protocols for resource management are crucial for maintaining readiness.\\n\\n**Recommendations:**\\n\\n1. **Detailed Risk Assessment:** Conduct a detailed risk assessment to identify specific high-risk areas for floods and landslides. Map out evacuation routes, safe shelters, and establish clear protocols for early warning systems.\\n\\n2. **Incorporate Landslide Risk Mitigation:** Develop specific measures for landslide risk assessment and mitigation in high-risk areas. This could include slope stabilization, early warning systems for landslides, and community training on landslide preparedness.\\n\\n3. **Comprehensive Training Programs:** Implement regular and comprehensive training programs for community members, focusing on both flood and landslide preparedness. Include practical drills and simulations to ensure readiness.\\n\\n4. **Resource Management Plan:** Develop a detailed resource management plan outlining how emergency supplies will be procured, stored, and distributed. Establish partnerships with local authorities and NGOs for efficient resource coordination.\\n\\n5. **Incorporate Feedback Mechanisms:** Include mechanisms for feedback and evaluation in the plan to gather insights from each response phase. Use this feedback to continuously improve the plan and enhance response effectiveness.\\n\\n6. **Enhance Coordination:** Strengthen coordination mechanisms with local authorities, NGOs, and international agencies. Clearly define roles and responsibilities to ensure a seamless and coordinated response during disasters.\\n\\n7. **Include Psychosocial Support:** Integrate psychosocial support services into the plan to address the mental health needs of affected individuals. This can help in promoting overall well-being and resilience in communities.\\n\\nBy incorporating these recommendations and enhancing the plan's specificity and focus on landslide risk mitigation, training, resource management, and coordination, the disaster response efforts in Bangladesh can be more effective and resilient in the face of future disasters.\", 'revision_number': 3}}\n"
     ]
    }
   ],
   "source": [
    "thread = {\"configurable\": {\"thread_id\": \"1\"}}\n",
    "# for s in graph.stream({\n",
    "#     'task': \"Floods and Landslides in Bangladesh\",\n",
    "#     \"max_revisions\": 2,\n",
    "#     \"revision_number\": 1,\n",
    "# }, thread):\n",
    "#     print(s)"
   ]
  },
  {
   "cell_type": "code",
   "execution_count": 29,
   "metadata": {},
   "outputs": [],
   "source": [
    "def get_disaster_response_plan(task: str, max_revisions: int):\n",
    "    state = {\n",
    "        'task': task,\n",
    "        'plan': '',\n",
    "        'draft': '',\n",
    "        'critique': '',\n",
    "        'content': [],\n",
    "        'revision_number': 1,\n",
    "        'max_revisions': max_revisions,\n",
    "    }\n",
    "    \n",
    "    # Process the state graph\n",
    "    for s in graph.stream(state, thread):\n",
    "        result = s\n",
    "\n",
    "    return result"
   ]
  }
 ],
 "metadata": {
  "kernelspec": {
   "display_name": "Python 3",
   "language": "python",
   "name": "python3"
  },
  "language_info": {
   "codemirror_mode": {
    "name": "ipython",
    "version": 3
   },
   "file_extension": ".py",
   "mimetype": "text/x-python",
   "name": "python",
   "nbconvert_exporter": "python",
   "pygments_lexer": "ipython3",
   "version": "3.9.6"
  }
 },
 "nbformat": 4,
 "nbformat_minor": 2
}
